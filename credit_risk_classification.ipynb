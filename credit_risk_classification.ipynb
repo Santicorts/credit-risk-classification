{
 "cells": [
  {
   "cell_type": "code",
   "execution_count": 2,
   "metadata": {},
   "outputs": [],
   "source": [
    "# Import the modules\n",
    "import numpy as np\n",
    "import pandas as pd\n",
    "from pathlib import Path\n",
    "from sklearn.metrics import confusion_matrix, classification_report"
   ]
  },
  {
   "attachments": {},
   "cell_type": "markdown",
   "metadata": {},
   "source": [
    "---"
   ]
  },
  {
   "attachments": {},
   "cell_type": "markdown",
   "metadata": {},
   "source": [
    "## Split the Data into Training and Testing Sets"
   ]
  },
  {
   "attachments": {},
   "cell_type": "markdown",
   "metadata": {},
   "source": [
    "### Step 1: Read the `lending_data.csv` data from the `Resources` folder into a Pandas DataFrame."
   ]
  },
  {
   "cell_type": "code",
   "execution_count": 3,
   "metadata": {},
   "outputs": [
    {
     "data": {
      "text/html": [
       "<div>\n",
       "<style scoped>\n",
       "    .dataframe tbody tr th:only-of-type {\n",
       "        vertical-align: middle;\n",
       "    }\n",
       "\n",
       "    .dataframe tbody tr th {\n",
       "        vertical-align: top;\n",
       "    }\n",
       "\n",
       "    .dataframe thead th {\n",
       "        text-align: right;\n",
       "    }\n",
       "</style>\n",
       "<table border=\"1\" class=\"dataframe\">\n",
       "  <thead>\n",
       "    <tr style=\"text-align: right;\">\n",
       "      <th></th>\n",
       "      <th>interest_rate</th>\n",
       "      <th>borrower_income</th>\n",
       "      <th>debt_to_income</th>\n",
       "      <th>num_of_accounts</th>\n",
       "      <th>derogatory_marks</th>\n",
       "      <th>total_debt</th>\n",
       "      <th>loan_status</th>\n",
       "    </tr>\n",
       "    <tr>\n",
       "      <th>loan_size</th>\n",
       "      <th></th>\n",
       "      <th></th>\n",
       "      <th></th>\n",
       "      <th></th>\n",
       "      <th></th>\n",
       "      <th></th>\n",
       "      <th></th>\n",
       "    </tr>\n",
       "  </thead>\n",
       "  <tbody>\n",
       "    <tr>\n",
       "      <th>10700.0</th>\n",
       "      <td>7.672</td>\n",
       "      <td>52800</td>\n",
       "      <td>0.431818</td>\n",
       "      <td>5</td>\n",
       "      <td>1</td>\n",
       "      <td>22800</td>\n",
       "      <td>0</td>\n",
       "    </tr>\n",
       "    <tr>\n",
       "      <th>8400.0</th>\n",
       "      <td>6.692</td>\n",
       "      <td>43600</td>\n",
       "      <td>0.311927</td>\n",
       "      <td>3</td>\n",
       "      <td>0</td>\n",
       "      <td>13600</td>\n",
       "      <td>0</td>\n",
       "    </tr>\n",
       "    <tr>\n",
       "      <th>9000.0</th>\n",
       "      <td>6.963</td>\n",
       "      <td>46100</td>\n",
       "      <td>0.349241</td>\n",
       "      <td>3</td>\n",
       "      <td>0</td>\n",
       "      <td>16100</td>\n",
       "      <td>0</td>\n",
       "    </tr>\n",
       "    <tr>\n",
       "      <th>10700.0</th>\n",
       "      <td>7.664</td>\n",
       "      <td>52700</td>\n",
       "      <td>0.430740</td>\n",
       "      <td>5</td>\n",
       "      <td>1</td>\n",
       "      <td>22700</td>\n",
       "      <td>0</td>\n",
       "    </tr>\n",
       "    <tr>\n",
       "      <th>10800.0</th>\n",
       "      <td>7.698</td>\n",
       "      <td>53000</td>\n",
       "      <td>0.433962</td>\n",
       "      <td>5</td>\n",
       "      <td>1</td>\n",
       "      <td>23000</td>\n",
       "      <td>0</td>\n",
       "    </tr>\n",
       "    <tr>\n",
       "      <th>10100.0</th>\n",
       "      <td>7.438</td>\n",
       "      <td>50600</td>\n",
       "      <td>0.407115</td>\n",
       "      <td>4</td>\n",
       "      <td>1</td>\n",
       "      <td>20600</td>\n",
       "      <td>0</td>\n",
       "    </tr>\n",
       "    <tr>\n",
       "      <th>10300.0</th>\n",
       "      <td>7.490</td>\n",
       "      <td>51100</td>\n",
       "      <td>0.412916</td>\n",
       "      <td>4</td>\n",
       "      <td>1</td>\n",
       "      <td>21100</td>\n",
       "      <td>0</td>\n",
       "    </tr>\n",
       "    <tr>\n",
       "      <th>8800.0</th>\n",
       "      <td>6.857</td>\n",
       "      <td>45100</td>\n",
       "      <td>0.334812</td>\n",
       "      <td>3</td>\n",
       "      <td>0</td>\n",
       "      <td>15100</td>\n",
       "      <td>0</td>\n",
       "    </tr>\n",
       "    <tr>\n",
       "      <th>9300.0</th>\n",
       "      <td>7.096</td>\n",
       "      <td>47400</td>\n",
       "      <td>0.367089</td>\n",
       "      <td>3</td>\n",
       "      <td>0</td>\n",
       "      <td>17400</td>\n",
       "      <td>0</td>\n",
       "    </tr>\n",
       "    <tr>\n",
       "      <th>9700.0</th>\n",
       "      <td>7.248</td>\n",
       "      <td>48800</td>\n",
       "      <td>0.385246</td>\n",
       "      <td>4</td>\n",
       "      <td>0</td>\n",
       "      <td>18800</td>\n",
       "      <td>0</td>\n",
       "    </tr>\n",
       "  </tbody>\n",
       "</table>\n",
       "</div>"
      ],
      "text/plain": [
       "           interest_rate  borrower_income  debt_to_income  num_of_accounts  \\\n",
       "loan_size                                                                    \n",
       "10700.0            7.672            52800        0.431818                5   \n",
       "8400.0             6.692            43600        0.311927                3   \n",
       "9000.0             6.963            46100        0.349241                3   \n",
       "10700.0            7.664            52700        0.430740                5   \n",
       "10800.0            7.698            53000        0.433962                5   \n",
       "10100.0            7.438            50600        0.407115                4   \n",
       "10300.0            7.490            51100        0.412916                4   \n",
       "8800.0             6.857            45100        0.334812                3   \n",
       "9300.0             7.096            47400        0.367089                3   \n",
       "9700.0             7.248            48800        0.385246                4   \n",
       "\n",
       "           derogatory_marks  total_debt  loan_status  \n",
       "loan_size                                             \n",
       "10700.0                   1       22800            0  \n",
       "8400.0                    0       13600            0  \n",
       "9000.0                    0       16100            0  \n",
       "10700.0                   1       22700            0  \n",
       "10800.0                   1       23000            0  \n",
       "10100.0                   1       20600            0  \n",
       "10300.0                   1       21100            0  \n",
       "8800.0                    0       15100            0  \n",
       "9300.0                    0       17400            0  \n",
       "9700.0                    0       18800            0  "
      ]
     },
     "execution_count": 3,
     "metadata": {},
     "output_type": "execute_result"
    }
   ],
   "source": [
    "# Read the CSV file from the Resources folder into a Pandas DataFrame\n",
    "\n",
    "df_cr_data = pd.read_csv(\n",
    "    \"Resources/lending_data.csv\",\n",
    "    index_col=\"loan_size\")\n",
    "\n",
    "# Display sample data\n",
    "df_cr_data.head(10)\n",
    "\n"
   ]
  },
  {
   "attachments": {},
   "cell_type": "markdown",
   "metadata": {},
   "source": [
    "### Step 2: Create the labels set (`y`)  from the “loan_status” column, and then create the features (`X`) DataFrame from the remaining columns."
   ]
  },
  {
   "cell_type": "code",
   "execution_count": 4,
   "metadata": {},
   "outputs": [
    {
     "name": "stdout",
     "output_type": "stream",
     "text": [
      "Features (X):\n",
      "           interest_rate  borrower_income  debt_to_income  num_of_accounts  \\\n",
      "loan_size                                                                    \n",
      "10700.0            7.672            52800        0.431818                5   \n",
      "8400.0             6.692            43600        0.311927                3   \n",
      "9000.0             6.963            46100        0.349241                3   \n",
      "10700.0            7.664            52700        0.430740                5   \n",
      "10800.0            7.698            53000        0.433962                5   \n",
      "\n",
      "           derogatory_marks  total_debt  \n",
      "loan_size                                \n",
      "10700.0                   1       22800  \n",
      "8400.0                    0       13600  \n",
      "9000.0                    0       16100  \n",
      "10700.0                   1       22700  \n",
      "10800.0                   1       23000  \n",
      "\n",
      "Labels (y):\n",
      "loan_size\n",
      "10700.0    0\n",
      "8400.0     0\n",
      "9000.0     0\n",
      "10700.0    0\n",
      "10800.0    0\n",
      "Name: loan_status, dtype: int64\n"
     ]
    }
   ],
   "source": [
    "# Separate the data into labels and features\n",
    "\n",
    "y = df_cr_data['loan_status']\n",
    "\n",
    "# Separate the x variable, the labels\n",
    "X = df_cr_data.drop(columns='loan_status')\n",
    "\n",
    "# Separate the X variable, the features\n",
    "print(\"Features (X):\")\n",
    "print(X.head())\n",
    "\n",
    "print(\"\\nLabels (y):\")\n",
    "print(y.head())"
   ]
  },
  {
   "cell_type": "code",
   "execution_count": 5,
   "metadata": {},
   "outputs": [
    {
     "data": {
      "text/plain": [
       "loan_size\n",
       "10700.0    0\n",
       "8400.0     0\n",
       "9000.0     0\n",
       "10700.0    0\n",
       "10800.0    0\n",
       "          ..\n",
       "19100.0    1\n",
       "17700.0    1\n",
       "17600.0    1\n",
       "16300.0    1\n",
       "15600.0    1\n",
       "Name: loan_status, Length: 77536, dtype: int64"
      ]
     },
     "execution_count": 5,
     "metadata": {},
     "output_type": "execute_result"
    }
   ],
   "source": [
    "# Review the y variable Series\n",
    "y"
   ]
  },
  {
   "cell_type": "code",
   "execution_count": 6,
   "metadata": {},
   "outputs": [
    {
     "data": {
      "text/html": [
       "<div>\n",
       "<style scoped>\n",
       "    .dataframe tbody tr th:only-of-type {\n",
       "        vertical-align: middle;\n",
       "    }\n",
       "\n",
       "    .dataframe tbody tr th {\n",
       "        vertical-align: top;\n",
       "    }\n",
       "\n",
       "    .dataframe thead th {\n",
       "        text-align: right;\n",
       "    }\n",
       "</style>\n",
       "<table border=\"1\" class=\"dataframe\">\n",
       "  <thead>\n",
       "    <tr style=\"text-align: right;\">\n",
       "      <th></th>\n",
       "      <th>interest_rate</th>\n",
       "      <th>borrower_income</th>\n",
       "      <th>debt_to_income</th>\n",
       "      <th>num_of_accounts</th>\n",
       "      <th>derogatory_marks</th>\n",
       "      <th>total_debt</th>\n",
       "    </tr>\n",
       "    <tr>\n",
       "      <th>loan_size</th>\n",
       "      <th></th>\n",
       "      <th></th>\n",
       "      <th></th>\n",
       "      <th></th>\n",
       "      <th></th>\n",
       "      <th></th>\n",
       "    </tr>\n",
       "  </thead>\n",
       "  <tbody>\n",
       "    <tr>\n",
       "      <th>10700.0</th>\n",
       "      <td>7.672</td>\n",
       "      <td>52800</td>\n",
       "      <td>0.431818</td>\n",
       "      <td>5</td>\n",
       "      <td>1</td>\n",
       "      <td>22800</td>\n",
       "    </tr>\n",
       "    <tr>\n",
       "      <th>8400.0</th>\n",
       "      <td>6.692</td>\n",
       "      <td>43600</td>\n",
       "      <td>0.311927</td>\n",
       "      <td>3</td>\n",
       "      <td>0</td>\n",
       "      <td>13600</td>\n",
       "    </tr>\n",
       "    <tr>\n",
       "      <th>9000.0</th>\n",
       "      <td>6.963</td>\n",
       "      <td>46100</td>\n",
       "      <td>0.349241</td>\n",
       "      <td>3</td>\n",
       "      <td>0</td>\n",
       "      <td>16100</td>\n",
       "    </tr>\n",
       "    <tr>\n",
       "      <th>10700.0</th>\n",
       "      <td>7.664</td>\n",
       "      <td>52700</td>\n",
       "      <td>0.430740</td>\n",
       "      <td>5</td>\n",
       "      <td>1</td>\n",
       "      <td>22700</td>\n",
       "    </tr>\n",
       "    <tr>\n",
       "      <th>10800.0</th>\n",
       "      <td>7.698</td>\n",
       "      <td>53000</td>\n",
       "      <td>0.433962</td>\n",
       "      <td>5</td>\n",
       "      <td>1</td>\n",
       "      <td>23000</td>\n",
       "    </tr>\n",
       "    <tr>\n",
       "      <th>...</th>\n",
       "      <td>...</td>\n",
       "      <td>...</td>\n",
       "      <td>...</td>\n",
       "      <td>...</td>\n",
       "      <td>...</td>\n",
       "      <td>...</td>\n",
       "    </tr>\n",
       "    <tr>\n",
       "      <th>19100.0</th>\n",
       "      <td>11.261</td>\n",
       "      <td>86600</td>\n",
       "      <td>0.653580</td>\n",
       "      <td>12</td>\n",
       "      <td>2</td>\n",
       "      <td>56600</td>\n",
       "    </tr>\n",
       "    <tr>\n",
       "      <th>17700.0</th>\n",
       "      <td>10.662</td>\n",
       "      <td>80900</td>\n",
       "      <td>0.629172</td>\n",
       "      <td>11</td>\n",
       "      <td>2</td>\n",
       "      <td>50900</td>\n",
       "    </tr>\n",
       "    <tr>\n",
       "      <th>17600.0</th>\n",
       "      <td>10.595</td>\n",
       "      <td>80300</td>\n",
       "      <td>0.626401</td>\n",
       "      <td>11</td>\n",
       "      <td>2</td>\n",
       "      <td>50300</td>\n",
       "    </tr>\n",
       "    <tr>\n",
       "      <th>16300.0</th>\n",
       "      <td>10.068</td>\n",
       "      <td>75300</td>\n",
       "      <td>0.601594</td>\n",
       "      <td>10</td>\n",
       "      <td>2</td>\n",
       "      <td>45300</td>\n",
       "    </tr>\n",
       "    <tr>\n",
       "      <th>15600.0</th>\n",
       "      <td>9.742</td>\n",
       "      <td>72300</td>\n",
       "      <td>0.585062</td>\n",
       "      <td>9</td>\n",
       "      <td>2</td>\n",
       "      <td>42300</td>\n",
       "    </tr>\n",
       "  </tbody>\n",
       "</table>\n",
       "<p>77536 rows × 6 columns</p>\n",
       "</div>"
      ],
      "text/plain": [
       "           interest_rate  borrower_income  debt_to_income  num_of_accounts  \\\n",
       "loan_size                                                                    \n",
       "10700.0            7.672            52800        0.431818                5   \n",
       "8400.0             6.692            43600        0.311927                3   \n",
       "9000.0             6.963            46100        0.349241                3   \n",
       "10700.0            7.664            52700        0.430740                5   \n",
       "10800.0            7.698            53000        0.433962                5   \n",
       "...                  ...              ...             ...              ...   \n",
       "19100.0           11.261            86600        0.653580               12   \n",
       "17700.0           10.662            80900        0.629172               11   \n",
       "17600.0           10.595            80300        0.626401               11   \n",
       "16300.0           10.068            75300        0.601594               10   \n",
       "15600.0            9.742            72300        0.585062                9   \n",
       "\n",
       "           derogatory_marks  total_debt  \n",
       "loan_size                                \n",
       "10700.0                   1       22800  \n",
       "8400.0                    0       13600  \n",
       "9000.0                    0       16100  \n",
       "10700.0                   1       22700  \n",
       "10800.0                   1       23000  \n",
       "...                     ...         ...  \n",
       "19100.0                   2       56600  \n",
       "17700.0                   2       50900  \n",
       "17600.0                   2       50300  \n",
       "16300.0                   2       45300  \n",
       "15600.0                   2       42300  \n",
       "\n",
       "[77536 rows x 6 columns]"
      ]
     },
     "execution_count": 6,
     "metadata": {},
     "output_type": "execute_result"
    }
   ],
   "source": [
    "# Review the X variable DataFrame\n",
    "X"
   ]
  },
  {
   "attachments": {},
   "cell_type": "markdown",
   "metadata": {},
   "source": [
    "### Step 3: Split the data into training and testing datasets by using `train_test_split`."
   ]
  },
  {
   "cell_type": "code",
   "execution_count": 7,
   "metadata": {},
   "outputs": [
    {
     "name": "stdout",
     "output_type": "stream",
     "text": [
      "X_train shape: (62028, 6)\n",
      "X_test shape: (15508, 6)\n",
      "y_train shape: (62028,)\n",
      "y_test shape: (15508,)\n"
     ]
    }
   ],
   "source": [
    "# Import the train_test_learn module\n",
    "from sklearn.model_selection import train_test_split\n",
    "\n",
    "# Split the data using train_test_split\n",
    "\n",
    "X_train, X_test, y_train, y_test = train_test_split(X, y, test_size=0.2, random_state=1)\n",
    "\n",
    "# Assign a random_state of 1 to the function\n",
    "\n",
    "\n",
    "# Display the shapes of the resulting datasets\n",
    "print(\"X_train shape:\", X_train.shape)\n",
    "print(\"X_test shape:\", X_test.shape)\n",
    "print(\"y_train shape:\", y_train.shape)\n",
    "print(\"y_test shape:\", y_test.shape)"
   ]
  },
  {
   "attachments": {},
   "cell_type": "markdown",
   "metadata": {},
   "source": [
    "---"
   ]
  },
  {
   "attachments": {},
   "cell_type": "markdown",
   "metadata": {},
   "source": [
    "## Create a Logistic Regression Model with the Original Data"
   ]
  },
  {
   "attachments": {},
   "cell_type": "markdown",
   "metadata": {},
   "source": [
    "###  Step 1: Fit a logistic regression model by using the training data (`X_train` and `y_train`)."
   ]
  },
  {
   "cell_type": "code",
   "execution_count": 8,
   "metadata": {},
   "outputs": [
    {
     "name": "stdout",
     "output_type": "stream",
     "text": [
      "Model coefficients: [[-1.12072803e-07 -3.88233073e-04 -2.54756267e-09  1.61200224e-07\n",
      "   5.41639386e-08  6.42005683e-04]]\n",
      "Model intercept: [-3.43412919e-08]\n"
     ]
    }
   ],
   "source": [
    "# Import the LogisticRegression module from SKLearn\n",
    "from sklearn.linear_model import LogisticRegression\n",
    "\n",
    "# Step 1: Instantiate the Logistic Regression model\n",
    "# Assign a random_state parameter of 1 to the model\n",
    "logistic_model = LogisticRegression(random_state=1)\n",
    "\n",
    "# Step 2: Fit the model using training data\n",
    "logistic_model.fit(X_train, y_train)\n",
    "\n",
    "# Display the model coefficients and intercept\n",
    "print(\"Model coefficients:\", logistic_model.coef_)\n",
    "print(\"Model intercept:\", logistic_model.intercept_)"
   ]
  },
  {
   "attachments": {},
   "cell_type": "markdown",
   "metadata": {},
   "source": [
    "### Step 2: Save the predictions on the testing data labels by using the testing feature data (`X_test`) and the fitted model."
   ]
  },
  {
   "cell_type": "code",
   "execution_count": 9,
   "metadata": {},
   "outputs": [
    {
     "name": "stdout",
     "output_type": "stream",
     "text": [
      "Predicted labels for the testing data:\n",
      "[0 0 0 ... 0 0 0]\n"
     ]
    }
   ],
   "source": [
    "# Make a prediction using the testing data\n",
    "y_pred = logistic_model.predict(X_test)\n",
    "\n",
    "# Display the predictions\n",
    "print(\"Predicted labels for the testing data:\")\n",
    "print(y_pred)\n"
   ]
  },
  {
   "attachments": {},
   "cell_type": "markdown",
   "metadata": {},
   "source": [
    "### Step 3: Evaluate the model’s performance by doing the following:\n",
    "\n",
    "* Generate a confusion matrix.\n",
    "\n",
    "* Print the classification report."
   ]
  },
  {
   "cell_type": "code",
   "execution_count": 10,
   "metadata": {},
   "outputs": [
    {
     "name": "stdout",
     "output_type": "stream",
     "text": [
      "Confusion Matrix:\n",
      "[[14926    75]\n",
      " [   46   461]]\n"
     ]
    }
   ],
   "source": [
    "# Generate a confusion matrix for the model\n",
    "confusion_mat = confusion_matrix(y_test, y_pred)\n",
    "print(\"Confusion Matrix:\")\n",
    "print(confusion_mat)"
   ]
  },
  {
   "cell_type": "code",
   "execution_count": 11,
   "metadata": {},
   "outputs": [
    {
     "name": "stdout",
     "output_type": "stream",
     "text": [
      "\n",
      "Classification Report:\n",
      "              precision    recall  f1-score   support\n",
      "\n",
      "           0       1.00      1.00      1.00     15001\n",
      "           1       0.86      0.91      0.88       507\n",
      "\n",
      "    accuracy                           0.99     15508\n",
      "   macro avg       0.93      0.95      0.94     15508\n",
      "weighted avg       0.99      0.99      0.99     15508\n",
      "\n"
     ]
    }
   ],
   "source": [
    "# Print the classification report for the model\n",
    "class_report = classification_report(y_test, y_pred)\n",
    "\n",
    "print(\"\\nClassification Report:\")\n",
    "print(class_report)"
   ]
  },
  {
   "attachments": {},
   "cell_type": "markdown",
   "metadata": {},
   "source": [
    "### Step 4: Answer the following question."
   ]
  },
  {
   "attachments": {},
   "cell_type": "markdown",
   "metadata": {},
   "source": [
    "**Question:** How well does the logistic regression model predict both the `0` (healthy loan) and `1` (high-risk loan) labels?\n",
    "\n",
    "**Answer:** The model predicts healthy loans (0) with perfect precision, recall, and F1-score.\n",
    "For high-risk loans (1), the model's precision and recall are slightly lower (86%), which suggests that it is less effective at identifying high-risk loans.\n"
   ]
  },
  {
   "cell_type": "markdown",
   "metadata": {},
   "source": [
    "## Step 5 - Overview of the Analysis"
   ]
  },
  {
   "cell_type": "markdown",
   "metadata": {},
   "source": [
    "\n",
    "\n",
    "In this section, describe the analysis you completed for the machine learning models used in this Challenge. This might include:\n",
    "\n",
    "* Explain the purpose of the analysis:\n",
    "\n",
    "    ANS: to build a machine learning model to predict loan risk. Specifically, the models aim to distinguish between healthy loans (0) and high-risk loans (1) to help financial institutions assess the risk associated with each loan application and make informed decisions\n",
    "* Explain what financial information the data was on, and what you needed to predict.\n",
    "\n",
    "    ANS: The dataset contains financial information related to borrowers and their loan details. Key features include:\n",
    "    - interest_rate: The interest rate of the loan.\n",
    "    - borrower_income: The annual income of the borrower.\n",
    "    - debt_to_income: The ratio of the borrower’s total monthly debt payments to their monthly gross income.\n",
    "    - num_of_accounts: The number of credit accounts the borrower has.\n",
    "    - derogatory_marks: The number of derogatory marks on the borrower’s credit history.\n",
    "    - total_debt: The total debt of the borrower.\n",
    "    - loan_size: The size of the loan being applied for.\n",
    "\n",
    "The target variable we need to predict is loan_status, which indicates whether a loan is a healthy loan (0) or a high-risk loan (1)\n",
    "\n",
    "* Provide basic information about the variables you were trying to predict (e.g., `value_counts`).\n",
    "\n",
    "    ANS: The variable to predict is loan_status:\n",
    "    - 0: Healthy loan, where the borrower is likely to repay without issues.\n",
    "    - 1: High-risk loan, where there is a higher chance of default.\n",
    "Value Counts of loan_status:\n",
    "\n",
    "    loan_status\n",
    "    - 0:    75036 -> MAJORITY\n",
    "    - 1:     2500 -> MINORITY\n",
    "\n",
    "\n",
    "\n",
    "* Describe the stages of the machine learning process you went through as part of this analysis.\n",
    "\n",
    "1. Data Preprocessing:\n",
    "    - Standardized numerical features to ensure they are on the same scale.\n",
    "    - Separated the data into features (X) and labels (y).\n",
    "    - Split the data into training and testing datasets using train_test_split.\n",
    "2. Model Training:\n",
    "    - A logistic regression model was instantiated and trained using the training dataset (X_train and y_train).\n",
    "3. Model Evaluation:   \n",
    "    - The model’s performance was evaluated using the test dataset (X_test and y_test).\n",
    "    - Key evaluation metrics such as accuracy, precision, recall, and F1-score were calculated.\n",
    "    - Confusion matrix and classification report were generated to assess the model’s predictive capabilities.\n",
    "4. Model Interpretation:\n",
    "    - Analyzed the confusion matrix and classification report to understand how well the model predicts both healthy and high-risk loans.\n",
    "\n",
    "\n",
    "* Briefly touch on any methods you used (e.g., `LogisticRegression`, or any other algorithms).\n",
    "\n",
    "Logistic Regression:\n",
    "\n",
    "This algorithm was chosen for its simplicity and interpretability, making it a good baseline model for binary classification problems like this one.\n",
    "\n",
    "## Results\n",
    "\n",
    "Using bulleted lists, describe the accuracy scores and the precision and recall scores of all machine learning models.\n",
    "* Machine Learning Model 1: Logistic Regression\n",
    "    * Accuracy Score:\n",
    "        - The model achieved an overall accuracy of 99%.\n",
    "    * Precision and Recall Scores:\n",
    "        - Healthy Loan (0):\n",
    "            - Precision: 1.00 (100% of loans predicted as healthy were actually healthy)\n",
    "            - Recall: 1.00 (100% of actual healthy loans were correctly predicted)\n",
    "            - F1-Score: 1.00\n",
    "        - High-Risk Loan (1):\n",
    "            - Precision: 0.86 (86% of loans predicted as high-risk were actually high-risk)\n",
    "            - Recall: 0.91 (91% of actual high-risk loans were correctly predicted)\n",
    "            - F1-Score: 0.88\n",
    "\n",
    "## Summary\n",
    "\n",
    "Summarize the results of the machine learning models, and include a recommendation on the model to use, if any. For example:\n",
    "\n",
    "* Which one seems to perform best? How do you know it performs best?\n",
    "\n",
    "    ANS: The logistic regression model performed exceptionally well overall, particularly for predicting healthy loans with perfect precision and recall. This suggests it is very reliable in identifying low-risk borrowers.\n",
    "\n",
    "* Does performance depend on the problem we are trying to solve? (For example, is it more important to predict the `1`'s, or predict the `0`'s? )\n",
    "\n",
    "    ANS: There is a significant class imbalance, with far more healthy loans than high-risk loans. This can lead to inflated accuracy scores and potential underperformance in predicting the minority class (high-risk loans).\n",
    "\n"
   ]
  },
  {
   "cell_type": "code",
   "execution_count": 12,
   "metadata": {},
   "outputs": [
    {
     "name": "stdout",
     "output_type": "stream",
     "text": [
      "loan_status\n",
      "0    75036\n",
      "1     2500\n",
      "Name: count, dtype: int64\n"
     ]
    }
   ],
   "source": [
    "print(y.value_counts())\n"
   ]
  },
  {
   "attachments": {},
   "cell_type": "markdown",
   "metadata": {},
   "source": [
    "---"
   ]
  }
 ],
 "metadata": {
  "kernelspec": {
   "display_name": "base",
   "language": "python",
   "name": "python3"
  },
  "language_info": {
   "codemirror_mode": {
    "name": "ipython",
    "version": 3
   },
   "file_extension": ".py",
   "mimetype": "text/x-python",
   "name": "python",
   "nbconvert_exporter": "python",
   "pygments_lexer": "ipython3",
   "version": "3.11.7"
  }
 },
 "nbformat": 4,
 "nbformat_minor": 4
}
